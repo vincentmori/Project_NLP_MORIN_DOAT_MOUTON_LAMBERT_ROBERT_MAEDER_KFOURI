{
 "cells": [
  {
   "cell_type": "code",
   "execution_count": 109,
   "id": "a5ef5b12",
   "metadata": {},
   "outputs": [
    {
     "name": "stderr",
     "output_type": "stream",
     "text": [
      "[nltk_data] Downloading package stopwords to\n",
      "[nltk_data]     C:\\Users\\vince\\AppData\\Roaming\\nltk_data...\n",
      "[nltk_data]   Package stopwords is already up-to-date!\n"
     ]
    }
   ],
   "source": [
    "# === Step 1: Import libraries === \n",
    "from sentence_transformers import SentenceTransformer, util \n",
    "import numpy as np\n",
    "import pandas as pd\n",
    "import os\n",
    "import nltk\n",
    "nltk.download('stopwords')\n",
    "from nltk.corpus import stopwords\n",
    "import re\n",
    "import string\n",
    "import torch"
   ]
  },
  {
   "cell_type": "code",
   "execution_count": 110,
   "id": "c1530f94",
   "metadata": {},
   "outputs": [
    {
     "data": {
      "text/html": [
       "<div>\n",
       "<style scoped>\n",
       "    .dataframe tbody tr th:only-of-type {\n",
       "        vertical-align: middle;\n",
       "    }\n",
       "\n",
       "    .dataframe tbody tr th {\n",
       "        vertical-align: top;\n",
       "    }\n",
       "\n",
       "    .dataframe thead th {\n",
       "        text-align: right;\n",
       "    }\n",
       "</style>\n",
       "<table border=\"1\" class=\"dataframe\">\n",
       "  <thead>\n",
       "    <tr style=\"text-align: right;\">\n",
       "      <th></th>\n",
       "      <th>Job</th>\n",
       "      <th>Competences</th>\n",
       "    </tr>\n",
       "  </thead>\n",
       "  <tbody>\n",
       "    <tr>\n",
       "      <th>0</th>\n",
       "      <td>Data Analyst</td>\n",
       "      <td>data analyst, data, analytics, data cleaning, ...</td>\n",
       "    </tr>\n",
       "    <tr>\n",
       "      <th>1</th>\n",
       "      <td>Data Scientist</td>\n",
       "      <td>data scientist, data science, data, machine le...</td>\n",
       "    </tr>\n",
       "    <tr>\n",
       "      <th>2</th>\n",
       "      <td>Machine Learning Engineer</td>\n",
       "      <td>machine learning engineer, ML engineer, machin...</td>\n",
       "    </tr>\n",
       "    <tr>\n",
       "      <th>3</th>\n",
       "      <td>NLP Engineer</td>\n",
       "      <td>nlp engineer, natural language processing, NLP...</td>\n",
       "    </tr>\n",
       "    <tr>\n",
       "      <th>4</th>\n",
       "      <td>Computer Vision Engineer</td>\n",
       "      <td>computer vision engineer, CV engineer, compute...</td>\n",
       "    </tr>\n",
       "  </tbody>\n",
       "</table>\n",
       "</div>"
      ],
      "text/plain": [
       "                         Job  \\\n",
       "0               Data Analyst   \n",
       "1             Data Scientist   \n",
       "2  Machine Learning Engineer   \n",
       "3               NLP Engineer   \n",
       "4   Computer Vision Engineer   \n",
       "\n",
       "                                         Competences  \n",
       "0  data analyst, data, analytics, data cleaning, ...  \n",
       "1  data scientist, data science, data, machine le...  \n",
       "2  machine learning engineer, ML engineer, machin...  \n",
       "3  nlp engineer, natural language processing, NLP...  \n",
       "4  computer vision engineer, CV engineer, compute...  "
      ]
     },
     "execution_count": 110,
     "metadata": {},
     "output_type": "execute_result"
    }
   ],
   "source": [
    "# === Step 2: Define competency framework (blocks) ===\n",
    "block_path = os.path.join(\"..\", \"Data\", \"Competency_block.csv\")\n",
    "block_df = pd.read_csv(block_path)\n",
    "\n",
    "block_df.head()"
   ]
  },
  {
   "cell_type": "code",
   "execution_count": 111,
   "id": "30373d1b",
   "metadata": {},
   "outputs": [],
   "source": [
    "# Transform in dictionnary\n",
    "block_dict = block_df.set_index('Job').to_dict('index')\n",
    "\n",
    "# Séparer les compétences en liste\n",
    "block_dict = {job: val['Competences'].split(', ') for job, val in block_dict.items()}"
   ]
  },
  {
   "cell_type": "code",
   "execution_count": 112,
   "id": "6ae5d2d6",
   "metadata": {},
   "outputs": [
    {
     "name": "stdout",
     "output_type": "stream",
     "text": [
      "{'Data Analyst': ['data analyst', 'data', 'analytics', 'data cleaning', 'data visualization', 'statistics', 'SQL', 'Power BI', 'Excel', 'Python', 'dashboards', 'attention to detail', 'communication', 'problem solving', 'critical thinking', 'teamwork'], 'Data Scientist': ['data scientist', 'data science', 'data', 'machine learning', 'model evaluation', 'feature engineering', 'Python', 'statistics', 'data wrangling', 'deep learning', 'analytical thinking', 'curiosity', 'experimentation', 'collaboration'], 'Machine Learning Engineer': ['machine learning engineer', 'ML engineer', 'machine learning', 'model deployment', 'MLOps', 'TensorFlow', 'PyTorch', 'model optimization', 'cloud ML', 'data pipelines', 'problem solving', 'innovation', 'adaptability', 'teamwork'], 'NLP Engineer': ['nlp engineer', 'natural language processing', 'NLP', 'transformers', 'BERT', 'text classification', 'tokenization', 'semantic similarity', 'language models', 'creativity', 'linguistic intuition', 'attention to detail', 'problem solving'], 'Computer Vision Engineer': ['computer vision engineer', 'CV engineer', 'computer vision', 'image recognition', 'object detection', 'CNN', 'OpenCV', 'image preprocessing', 'deep learning', 'spatial reasoning', 'analytical thinking', 'precision', 'curiosity'], 'Backend Developer': ['backend developer', 'backend', 'API design', 'databases', 'Python', 'Node.js', 'Django', 'REST', 'microservices', 'logical thinking', 'problem solving', 'collaboration', 'reliability'], 'Frontend Developer': ['frontend developer', 'front-end', 'frontend', 'HTML', 'CSS', 'JavaScript', 'React', 'UI design', 'responsive design', 'web performance', 'creativity', 'attention to detail', 'user empathy', 'teamwork'], 'Full Stack Engineer': ['full stack engineer', 'fullstack', 'React', 'Node.js', 'database management', 'APIs', 'authentication', 'DevOps basics', 'adaptability', 'problem solving', 'communication', 'ownership'], 'Mobile Developer': ['mobile developer', 'Android', 'iOS', 'React Native', 'Flutter', 'mobile UI', 'API integration', 'creativity', 'adaptability', 'problem solving', 'teamwork'], 'Cloud Engineer': ['cloud engineer', 'AWS', 'Azure', 'GCP', 'Docker', 'Kubernetes', 'CI/CD', 'infrastructure as code', 'reliability', 'analytical thinking', 'problem solving', 'collaboration'], 'DevOps Engineer': ['devops engineer', 'DevOps', 'CI/CD pipelines', 'Docker', 'Kubernetes', 'Jenkins', 'cloud infrastructure', 'automation', 'monitoring', 'collaboration', 'adaptability', 'attention to detail', 'system thinking'], 'Software Architect': ['software architect', 'architecture', 'system design', 'microservices', 'cloud architecture', 'security principles', 'API design', 'scalability', 'problem solving', 'leadership', 'project management'], 'Cybersecurity Specialist': ['cybersecurity specialist', 'security analyst', 'network security', 'vulnerability scanning', 'penetration testing', 'firewalls', 'encryption', 'incident response', 'attention to detail', 'risk awareness', 'critical thinking', 'perseverance'], 'Web Designer': ['web designer', 'UI designer', 'UX designer', 'UI/UX designer', 'UI design', 'UX principles', 'Figma', 'Adobe XD', 'HTML/CSS', 'user flows', 'wireframes', 'creativity', 'empathy', 'communication', 'adaptability'], 'Product Manager': ['product manager', 'PM', 'roadmapping', 'user research', 'agile methodologies', 'MVP definition', 'stakeholder communication', 'leadership', 'prioritization', 'negotiation', 'problem solving'], 'UX/UI Designer': ['ux/ui designer', 'UX designer', 'UI designer', 'user experience', 'user interface', 'user research', 'prototyping', 'information architecture', 'Figma', 'usability testing', 'creativity', 'empathy', 'collaboration', 'responsive design', 'interaction design'], 'Data Engineer': ['data engineer', 'ETL', 'SQL', 'Spark', 'data warehousing', 'Airflow', 'cloud storage', 'Python', 'system thinking', 'collaboration', 'reliability', 'precision'], 'Business Intelligence Developer': ['business intelligence developer', 'BI developer', 'Power BI', 'Tableau', 'data modeling', 'SQL', 'DAX', 'report automation', 'analytical thinking', 'communication', 'storytelling', 'attention to detail'], 'Database Administrator': ['database administrator', 'DBA', 'database optimization', 'backup and recovery', 'SQL Server', 'PostgreSQL', 'security management', 'precision', 'problem solving', 'reliability', 'organization'], 'AI Researcher': ['AI researcher', 'artificial intelligence', 'deep learning', 'reinforcement learning', 'transformers', 'mathematical modeling', 'scientific experimentation', 'curiosity', 'creativity', 'analytical thinking', 'perseverance']}\n"
     ]
    }
   ],
   "source": [
    "print(block_dict)"
   ]
  },
  {
   "cell_type": "code",
   "execution_count": 113,
   "id": "3210ca18",
   "metadata": {},
   "outputs": [
    {
     "data": {
      "text/html": [
       "<div>\n",
       "<style scoped>\n",
       "    .dataframe tbody tr th:only-of-type {\n",
       "        vertical-align: middle;\n",
       "    }\n",
       "\n",
       "    .dataframe tbody tr th {\n",
       "        vertical-align: top;\n",
       "    }\n",
       "\n",
       "    .dataframe thead th {\n",
       "        text-align: right;\n",
       "    }\n",
       "</style>\n",
       "<table border=\"1\" class=\"dataframe\">\n",
       "  <thead>\n",
       "    <tr style=\"text-align: right;\">\n",
       "      <th></th>\n",
       "      <th>experiences</th>\n",
       "      <th>interests</th>\n",
       "      <th>qualities</th>\n",
       "      <th>python_level</th>\n",
       "      <th>sql_level</th>\n",
       "      <th>html_level</th>\n",
       "      <th>css_level</th>\n",
       "      <th>hadoop_level</th>\n",
       "      <th>cloud_level</th>\n",
       "    </tr>\n",
       "  </thead>\n",
       "  <tbody>\n",
       "    <tr>\n",
       "      <th>0</th>\n",
       "      <td>I have worked as a data scientist, performing ...</td>\n",
       "      <td>I am interested in UX/UI design, creating intu...</td>\n",
       "      <td>Creativity, empathy, attention to detail, prob...</td>\n",
       "      <td>4</td>\n",
       "      <td>3</td>\n",
       "      <td>5</td>\n",
       "      <td>5</td>\n",
       "      <td>2</td>\n",
       "      <td>2</td>\n",
       "    </tr>\n",
       "  </tbody>\n",
       "</table>\n",
       "</div>"
      ],
      "text/plain": [
       "                                         experiences  \\\n",
       "0  I have worked as a data scientist, performing ...   \n",
       "\n",
       "                                           interests  \\\n",
       "0  I am interested in UX/UI design, creating intu...   \n",
       "\n",
       "                                           qualities  python_level  sql_level  \\\n",
       "0  Creativity, empathy, attention to detail, prob...             4          3   \n",
       "\n",
       "   html_level  css_level  hadoop_level  cloud_level  \n",
       "0           5          5             2            2  "
      ]
     },
     "execution_count": 113,
     "metadata": {},
     "output_type": "execute_result"
    }
   ],
   "source": [
    "# === Step 3: load the user input ===\n",
    "id_path = os.path.join(\"..\", \"Data\", \"id.txt\")\n",
    "with open(id_path, \"r\") as f:\n",
    "    last_id = int(f.read().strip())\n",
    "\n",
    "user_input_path = os.path.join(\"..\", \"Data\", \"User_input\", f\"{last_id}_profile.csv\")\n",
    "user_input_df = pd.read_csv(user_input_path)\n",
    "\n",
    "user_input_df.head()"
   ]
  },
  {
   "cell_type": "code",
   "execution_count": 114,
   "id": "f7bc76a9",
   "metadata": {},
   "outputs": [
    {
     "data": {
      "text/html": [
       "<div>\n",
       "<style scoped>\n",
       "    .dataframe tbody tr th:only-of-type {\n",
       "        vertical-align: middle;\n",
       "    }\n",
       "\n",
       "    .dataframe tbody tr th {\n",
       "        vertical-align: top;\n",
       "    }\n",
       "\n",
       "    .dataframe thead th {\n",
       "        text-align: right;\n",
       "    }\n",
       "</style>\n",
       "<table border=\"1\" class=\"dataframe\">\n",
       "  <thead>\n",
       "    <tr style=\"text-align: right;\">\n",
       "      <th></th>\n",
       "      <th>experiences</th>\n",
       "      <th>interests</th>\n",
       "      <th>qualities</th>\n",
       "      <th>python_level</th>\n",
       "      <th>sql_level</th>\n",
       "      <th>html_level</th>\n",
       "      <th>css_level</th>\n",
       "      <th>hadoop_level</th>\n",
       "      <th>cloud_level</th>\n",
       "    </tr>\n",
       "  </thead>\n",
       "  <tbody>\n",
       "    <tr>\n",
       "      <th>0</th>\n",
       "      <td>worked data scientist performing data analysis...</td>\n",
       "      <td>interested ux ui design creating intuitive aes...</td>\n",
       "      <td>creativity empathy attention detail problem so...</td>\n",
       "      <td>4</td>\n",
       "      <td>3</td>\n",
       "      <td>5</td>\n",
       "      <td>5</td>\n",
       "      <td>2</td>\n",
       "      <td>2</td>\n",
       "    </tr>\n",
       "  </tbody>\n",
       "</table>\n",
       "</div>"
      ],
      "text/plain": [
       "                                         experiences  \\\n",
       "0  worked data scientist performing data analysis...   \n",
       "\n",
       "                                           interests  \\\n",
       "0  interested ux ui design creating intuitive aes...   \n",
       "\n",
       "                                           qualities python_level sql_level  \\\n",
       "0  creativity empathy attention detail problem so...            4         3   \n",
       "\n",
       "  html_level css_level hadoop_level cloud_level  \n",
       "0          5         5            2           2  "
      ]
     },
     "execution_count": 114,
     "metadata": {},
     "output_type": "execute_result"
    }
   ],
   "source": [
    "# === Step 4: Cleaning the user input ===\n",
    "column_cleaning = user_input_df.columns\n",
    "\n",
    "#List of stop words\n",
    "stop_words = set(stopwords.words('english'))\n",
    "\n",
    "for col in column_cleaning:\n",
    "    # To lower case\n",
    "    user_input_df[col] = user_input_df[col].astype(str).str.lower()\n",
    "    \n",
    "    #Delete punctuation\n",
    "    user_input_df[col] = user_input_df[col].apply(\n",
    "        lambda x: re.sub(f\"[{string.punctuation}]\", \" \", x)\n",
    "    )\n",
    "    \n",
    "    #Delete stopwords\n",
    "    user_input_df[col] = user_input_df[col].apply(\n",
    "        lambda x: \" \".join([word for word in x.split() if word not in stop_words])\n",
    "    )\n",
    "    \n",
    "user_input_df.head()"
   ]
  },
  {
   "cell_type": "code",
   "execution_count": 115,
   "id": "e5218dff",
   "metadata": {},
   "outputs": [
    {
     "name": "stdout",
     "output_type": "stream",
     "text": [
      "['worked data scientist performing data analysis machine learning statistical modeling python sql dashboards data visualization', 'interested ux ui design creating intuitive aesthetic interfaces prototyping wireframing usability testing figma adobe xd responsive design interaction design', 'creativity empathy attention detail problem solving analytical thinking collaboration adaptability curiosity', '4', '3', '5', '5', '2', '2']\n"
     ]
    }
   ],
   "source": [
    "# Transform user input in list\n",
    "user_input = []\n",
    "\n",
    "for col in column_cleaning:\n",
    "    user_input.append(user_input_df[col].iloc[0])\n",
    "\n",
    "print(user_input)"
   ]
  },
  {
   "cell_type": "code",
   "execution_count": 116,
   "id": "56182960",
   "metadata": {},
   "outputs": [],
   "source": [
    "# === Step 4: Load SBERT model for embeddings === \n",
    "# tester plusieurs models\n",
    "model = SentenceTransformer(\"multi-qa-mpnet-base-dot-v1\")  # Model optimised for semantic analysis\n",
    "\n",
    "# Helper : encode proprement un texte en 2D tensor normalisé\n",
    "def encode_text(text):\n",
    "    emb = model.encode(text, convert_to_tensor=True)\n",
    "    emb = emb.unsqueeze(0) if emb.dim() == 1 else emb\n",
    "    return emb\n",
    "\n",
    "# Encode parties textuelles principales\n",
    "xp_embeddings = encode_text(user_input[0]).mean(dim=0)          # expérience\n",
    "interet_embeddings = encode_text(user_input[1]).mean(dim=0)     # intérêts\n",
    "qual_embeddings = encode_text(user_input[2]).mean(dim=0)        # qualités\n",
    "\n",
    "# Encode chaque skill individuel\n",
    "skills = [\"python\", \"sql\", \"html\", \"css\", \"hadoop\", \"cloud\"]\n",
    "skill_embeddings = {s: encode_text(s) for s in skills}\n",
    "\n",
    "# Pondération des parties principales (texte)\n",
    "xp_w, interet_w, qual_w = 0.2, 0.4, 0.05\n",
    "\n",
    "# Pondération des skills techniques selon le niveau utilisateur\n",
    "def skill_weight(level):\n",
    "    # Niveau d'importance selon la maîtrise\n",
    "    mapping = {1: 0, 2: 0, 3: 0, 4: 0.9, 5: 1.0}\n",
    "    return mapping.get(level, 0.1) \n",
    "\n",
    "\n",
    "user_embeddings = xp_w * xp_embeddings + interet_w * interet_embeddings + qual_w * qual_embeddings\n",
    "user_embeddings = user_embeddings + skill_weight(user_input_df[\"python_level\"].iloc[0]) * skill_embeddings[\"python\"]\n",
    "user_embeddings = user_embeddings + skill_weight(user_input_df[\"sql_level\"].iloc[0]) * skill_embeddings[\"sql\"]\n",
    "user_embeddings = user_embeddings + skill_weight(user_input_df[\"html_level\"].iloc[0]) * skill_embeddings[\"html\"]\n",
    "user_embeddings = user_embeddings + skill_weight(user_input_df[\"css_level\"].iloc[0]) * skill_embeddings[\"css\"]\n",
    "user_embeddings = user_embeddings + skill_weight(user_input_df[\"hadoop_level\"].iloc[0]) * skill_embeddings[\"hadoop\"]\n",
    "user_embeddings = user_embeddings + skill_weight(user_input_df[\"cloud_level\"].iloc[0]) * skill_embeddings[\"cloud\"]\n",
    "\n",
    "user_embeddings = torch.nn.functional.normalize(user_embeddings, p=2, dim=0)"
   ]
  },
  {
   "cell_type": "code",
   "execution_count": 117,
   "id": "f64b9449",
   "metadata": {},
   "outputs": [
    {
     "name": "stdout",
     "output_type": "stream",
     "text": [
      "[('Data Engineer', np.float64(0.5459343194961548)), ('Web Designer', np.float64(0.540837287902832)), ('Data Scientist', np.float64(0.5384271740913391)), ('UX/UI Designer', np.float64(0.5370036959648132)), ('Frontend Developer', np.float64(0.535009503364563)), ('Data Analyst', np.float64(0.5281891226768494)), ('Machine Learning Engineer', np.float64(0.5163092613220215)), ('Business Intelligence Developer', np.float64(0.5015260577201843)), ('AI Researcher', np.float64(0.4896921217441559)), ('Software Architect', np.float64(0.4813024401664734)), ('Backend Developer', np.float64(0.4750705659389496)), ('Mobile Developer', np.float64(0.4649183750152588)), ('NLP Engineer', np.float64(0.4621198773384094)), ('Computer Vision Engineer', np.float64(0.4619518518447876)), ('Cloud Engineer', np.float64(0.4614993929862976)), ('Full Stack Engineer', np.float64(0.4503398537635803)), ('Product Manager', np.float64(0.4461837410926819)), ('Database Administrator', np.float64(0.4461837410926819)), ('Cybersecurity Specialist', np.float64(0.44494932889938354)), ('DevOps Engineer', np.float64(0.4388743042945862))]\n"
     ]
    }
   ],
   "source": [
    "# === Step 5: Calculate semantic similarity for each block === \n",
    "block_scores = {} \n",
    "\n",
    "for block, competencies in block_dict.items(): \n",
    "    # Encode competency block phrases \n",
    "    block_embeddings = model.encode(competencies, convert_to_tensor=True) \n",
    "     \n",
    "    # Compare each user input to competencies using cosine similarity \n",
    "    similarities = util.cos_sim(user_embeddings, block_embeddings) \n",
    "\n",
    "     # Take max similarity per user input and average across inputs \n",
    "    max_similarities = [float(sim.max()) for sim in similarities]   \n",
    "    block_score = np.mean(max_similarities)\n",
    "    \n",
    "    block_scores[block] = block_score\n",
    "\n",
    "\n",
    "# Obtain top 3 job similarity\n",
    "top_3_blocks = sorted(block_scores.items(), key=lambda x: x[1], reverse=True)\n",
    "\n",
    "print(top_3_blocks)"
   ]
  }
 ],
 "metadata": {
  "kernelspec": {
   "display_name": "Python 3",
   "language": "python",
   "name": "python3"
  },
  "language_info": {
   "codemirror_mode": {
    "name": "ipython",
    "version": 3
   },
   "file_extension": ".py",
   "mimetype": "text/x-python",
   "name": "python",
   "nbconvert_exporter": "python",
   "pygments_lexer": "ipython3",
   "version": "3.11.9"
  }
 },
 "nbformat": 4,
 "nbformat_minor": 5
}
