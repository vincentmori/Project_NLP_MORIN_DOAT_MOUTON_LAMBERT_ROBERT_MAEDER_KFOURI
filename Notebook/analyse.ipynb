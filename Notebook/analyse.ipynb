{
 "cells": [
  {
   "cell_type": "code",
   "execution_count": 136,
   "id": "a5ef5b12",
   "metadata": {},
   "outputs": [
    {
     "name": "stderr",
     "output_type": "stream",
     "text": [
      "[nltk_data] Downloading package stopwords to\n",
      "[nltk_data]     C:\\Users\\vince\\AppData\\Roaming\\nltk_data...\n",
      "[nltk_data]   Package stopwords is already up-to-date!\n"
     ]
    }
   ],
   "source": [
    "# === Step 1: Import libraries === \n",
    "from sentence_transformers import SentenceTransformer, util \n",
    "import numpy as np\n",
    "import pandas as pd\n",
    "import os\n",
    "import nltk\n",
    "nltk.download('stopwords')\n",
    "from nltk.corpus import stopwords\n",
    "import re\n",
    "import string\n",
    "import torch"
   ]
  },
  {
   "cell_type": "code",
   "execution_count": 137,
   "id": "c1530f94",
   "metadata": {},
   "outputs": [
    {
     "data": {
      "text/html": [
       "<div>\n",
       "<style scoped>\n",
       "    .dataframe tbody tr th:only-of-type {\n",
       "        vertical-align: middle;\n",
       "    }\n",
       "\n",
       "    .dataframe tbody tr th {\n",
       "        vertical-align: top;\n",
       "    }\n",
       "\n",
       "    .dataframe thead th {\n",
       "        text-align: right;\n",
       "    }\n",
       "</style>\n",
       "<table border=\"1\" class=\"dataframe\">\n",
       "  <thead>\n",
       "    <tr style=\"text-align: right;\">\n",
       "      <th></th>\n",
       "      <th>job</th>\n",
       "      <th>competency</th>\n",
       "    </tr>\n",
       "  </thead>\n",
       "  <tbody>\n",
       "    <tr>\n",
       "      <th>0</th>\n",
       "      <td>Data Analyst</td>\n",
       "      <td>resolution de problemes; sens du detail; commu...</td>\n",
       "    </tr>\n",
       "    <tr>\n",
       "      <th>1</th>\n",
       "      <td>Data Scientist</td>\n",
       "      <td>pensee analytique; resolution de problemes; in...</td>\n",
       "    </tr>\n",
       "    <tr>\n",
       "      <th>2</th>\n",
       "      <td>NLP Engineer</td>\n",
       "      <td>intuition linguistique; comprehension semantiq...</td>\n",
       "    </tr>\n",
       "    <tr>\n",
       "      <th>3</th>\n",
       "      <td>Fullstack Developer</td>\n",
       "      <td>resolution de problemes; pensee logique; trava...</td>\n",
       "    </tr>\n",
       "    <tr>\n",
       "      <th>4</th>\n",
       "      <td>UX/UI Designer</td>\n",
       "      <td>recherche utilisateur; wireframing; prototypag...</td>\n",
       "    </tr>\n",
       "  </tbody>\n",
       "</table>\n",
       "</div>"
      ],
      "text/plain": [
       "                   job                                         competency\n",
       "0         Data Analyst  resolution de problemes; sens du detail; commu...\n",
       "1       Data Scientist  pensee analytique; resolution de problemes; in...\n",
       "2         NLP Engineer  intuition linguistique; comprehension semantiq...\n",
       "3  Fullstack Developer  resolution de problemes; pensee logique; trava...\n",
       "4       UX/UI Designer  recherche utilisateur; wireframing; prototypag..."
      ]
     },
     "execution_count": 137,
     "metadata": {},
     "output_type": "execute_result"
    }
   ],
   "source": [
    "# === Step 2: Define competency framework (blocks) ===\n",
    "block_path = os.path.join(\"..\", \"Data\", \"Competency_block.csv\")\n",
    "block_df = pd.read_csv(block_path)\n",
    "\n",
    "block_df.head()"
   ]
  },
  {
   "cell_type": "code",
   "execution_count": 138,
   "id": "30373d1b",
   "metadata": {},
   "outputs": [],
   "source": [
    "# Transform in dictionnary\n",
    "block_dict = block_df.set_index('job').to_dict('index')\n",
    "\n",
    "# Séparer les compétences en liste\n",
    "block_dict = {job: val['competency'].split('; ') for job, val in block_dict.items()}"
   ]
  },
  {
   "cell_type": "code",
   "execution_count": 139,
   "id": "6ae5d2d6",
   "metadata": {},
   "outputs": [
    {
     "name": "stdout",
     "output_type": "stream",
     "text": [
      "{'Data Analyst': ['resolution de problemes', 'sens du detail', 'communication', 'storytelling de donnees', 'travail en equipe', 'pensee critique', 'excel', 'bon niveau sql', 'visualisation de donnees', 'tableaux de bord', 'bon niveau python'], 'Data Scientist': ['pensee analytique', 'resolution de problemes', 'intuition des donnees', 'experimentation', 'collaboration', 'curiosite', 'tres bon niveau python', 'r', 'analyse statistique', 'modelisation predictive', 'ingenierie des fonctionnalites'], 'NLP Engineer': ['intuition linguistique', 'comprehension semantique', 'resolution de problemes', 'creativite', 'sens du detail', 'travail en equipe', 'bon a tres bon niveau python', 'tokenisation', 'transformers', 'word embeddings', \"recherche d'information\"], 'Fullstack Developer': ['resolution de problemes', 'pensee logique', 'travail en equipe', 'adaptabilite', 'communication', 'design thinking', 'bon niveau html', 'bon niveau css', 'tres bon niveau javascript', 'bon niveau react', 'node.js', \"developpement d'api\", 'bases de donnees'], 'UX/UI Designer': ['recherche utilisateur', 'wireframing', 'prototypage', \"design d'interaction\", \"tests d'utilisabilite\", 'empathie', 'creativite', 'design visuel', 'collaboration', 'tres bon niveau html', 'tres bon niveau css', 'bon niveau javascript', 'figma', 'adobe xd', 'design responsive'], 'Big Data Engineer': ['resolution de problemes', 'pensee systemique', 'travail en equipe', 'adaptabilite', 'sens du detail', 'communication', 'bon niveau hadoop', 'spark', 'kafka', 'lacs de donnees', 'systemes distribues', 'pipelines etl'], 'DevOps Engineer': ['collaboration', \"esprit d'automatisation\", 'resolution de problemes', 'monitoring', 'adaptabilite', 'travail en equipe', 'fiabilite', 'docker', 'kubernetes', 'ci/cd', 'bon tres bon connaissance des infrastructures cloud', 'scripting'], 'Cybersecurity Analyst': ['sens du risque', 'resolution de problemes', 'sens du detail', 'communication', 'pensee critique', 'travail en equipe', 'securite reseau', \"tests d'intrusion\", 'evaluation des vulnerabilites', 'chiffrement', 'pare-feu', 'bon connaissance des infrastructures cloud'], 'AI Researcher': ['curiosite', 'experimentation', 'pensee analytique', 'creativite', 'collaboration', 'resolution de problemes', 'bon niveau python', 'deep learning', 'reinforcement learning', 'modeles generatifs', 'transformers']}\n"
     ]
    }
   ],
   "source": [
    "print(block_dict)"
   ]
  },
  {
   "cell_type": "code",
   "execution_count": 140,
   "id": "3210ca18",
   "metadata": {},
   "outputs": [
    {
     "data": {
      "text/html": [
       "<div>\n",
       "<style scoped>\n",
       "    .dataframe tbody tr th:only-of-type {\n",
       "        vertical-align: middle;\n",
       "    }\n",
       "\n",
       "    .dataframe tbody tr th {\n",
       "        vertical-align: top;\n",
       "    }\n",
       "\n",
       "    .dataframe thead th {\n",
       "        text-align: right;\n",
       "    }\n",
       "</style>\n",
       "<table border=\"1\" class=\"dataframe\">\n",
       "  <thead>\n",
       "    <tr style=\"text-align: right;\">\n",
       "      <th></th>\n",
       "      <th>experiences</th>\n",
       "      <th>interests</th>\n",
       "      <th>qualities</th>\n",
       "      <th>python_level</th>\n",
       "      <th>sql_level</th>\n",
       "      <th>html_level</th>\n",
       "      <th>css_level</th>\n",
       "      <th>hadoop_level</th>\n",
       "      <th>cloud_level</th>\n",
       "    </tr>\n",
       "  </thead>\n",
       "  <tbody>\n",
       "    <tr>\n",
       "      <th>0</th>\n",
       "      <td>J'ai travaillé sur la sécurisation de réseaux ...</td>\n",
       "      <td>Je suis passionné par la cybersécurité, l'iden...</td>\n",
       "      <td>Rigueur, esprit analytique, curiosité, sens cr...</td>\n",
       "      <td>3</td>\n",
       "      <td>2</td>\n",
       "      <td>1</td>\n",
       "      <td>1</td>\n",
       "      <td>2</td>\n",
       "      <td>4</td>\n",
       "    </tr>\n",
       "  </tbody>\n",
       "</table>\n",
       "</div>"
      ],
      "text/plain": [
       "                                         experiences  \\\n",
       "0  J'ai travaillé sur la sécurisation de réseaux ...   \n",
       "\n",
       "                                           interests  \\\n",
       "0  Je suis passionné par la cybersécurité, l'iden...   \n",
       "\n",
       "                                           qualities  python_level  sql_level  \\\n",
       "0  Rigueur, esprit analytique, curiosité, sens cr...             3          2   \n",
       "\n",
       "   html_level  css_level  hadoop_level  cloud_level  \n",
       "0           1          1             2            4  "
      ]
     },
     "execution_count": 140,
     "metadata": {},
     "output_type": "execute_result"
    }
   ],
   "source": [
    "# === Step 3: load the user input ===\n",
    "id_path = os.path.join(\"..\", \"Data\", \"id.txt\")\n",
    "with open(id_path, \"r\") as f:\n",
    "    last_id = int(f.read().strip())\n",
    "\n",
    "user_input_path = os.path.join(\"..\", \"Data\", \"User_input\", f\"{last_id}_profile.csv\")\n",
    "user_input_df = pd.read_csv(user_input_path)\n",
    "\n",
    "user_input_df.head()"
   ]
  },
  {
   "cell_type": "code",
   "execution_count": 141,
   "id": "bcbb20b6",
   "metadata": {},
   "outputs": [
    {
     "data": {
      "text/html": [
       "<div>\n",
       "<style scoped>\n",
       "    .dataframe tbody tr th:only-of-type {\n",
       "        vertical-align: middle;\n",
       "    }\n",
       "\n",
       "    .dataframe tbody tr th {\n",
       "        vertical-align: top;\n",
       "    }\n",
       "\n",
       "    .dataframe thead th {\n",
       "        text-align: right;\n",
       "    }\n",
       "</style>\n",
       "<table border=\"1\" class=\"dataframe\">\n",
       "  <thead>\n",
       "    <tr style=\"text-align: right;\">\n",
       "      <th></th>\n",
       "      <th>experiences</th>\n",
       "      <th>interests</th>\n",
       "      <th>qualities</th>\n",
       "    </tr>\n",
       "  </thead>\n",
       "  <tbody>\n",
       "    <tr>\n",
       "      <th>0</th>\n",
       "      <td>J'ai travaillé sur la sécurisation de réseaux ...</td>\n",
       "      <td>Je suis passionné par la cybersécurité, l'iden...</td>\n",
       "      <td>Rigueur, esprit analytique, curiosité, sens cr...</td>\n",
       "    </tr>\n",
       "  </tbody>\n",
       "</table>\n",
       "</div>"
      ],
      "text/plain": [
       "                                         experiences  \\\n",
       "0  J'ai travaillé sur la sécurisation de réseaux ...   \n",
       "\n",
       "                                           interests  \\\n",
       "0  Je suis passionné par la cybersécurité, l'iden...   \n",
       "\n",
       "                                           qualities  \n",
       "0  Rigueur, esprit analytique, curiosité, sens cr...  "
      ]
     },
     "execution_count": 141,
     "metadata": {},
     "output_type": "execute_result"
    }
   ],
   "source": [
    "def niveau(input_niveau):\n",
    "    if input_niveau == 1:\n",
    "        return \"tres mauvais\"\n",
    "    elif input_niveau == 2:\n",
    "        return \"mauvais\"\n",
    "    elif input_niveau == 3:\n",
    "        return \"moyen\"\n",
    "    elif input_niveau == 4:\n",
    "        return \"bon\"\n",
    "    elif input_niveau == 5:\n",
    "        return \"très bon\"\n",
    "\n",
    "skills_list = [\n",
    "    f\"python niveau {niveau(user_input_df['python_level'].iloc[0])}, sql niveau {niveau(user_input_df['sql_level'].iloc[0])}\",\n",
    "    f\"html niveau {niveau(user_input_df['html_level'].iloc[0])}, css niveau {niveau(user_input_df['css_level'].iloc[0])}\",\n",
    "    f\"hadoop niveau {niveau(user_input_df['hadoop_level'].iloc[0])}\",\n",
    "    f\"{niveau(user_input_df['cloud_level'].iloc[0])} connaissance infrastructure cloud\"\n",
    "]\n",
    "\n",
    "user_input_df = user_input_df.drop(columns=[\"python_level\", \"sql_level\", \"html_level\", \"css_level\", \"hadoop_level\", \"cloud_level\"])\n",
    "\n",
    "user_input_df.head()"
   ]
  },
  {
   "cell_type": "code",
   "execution_count": 142,
   "id": "f7bc76a9",
   "metadata": {},
   "outputs": [
    {
     "data": {
      "text/html": [
       "<div>\n",
       "<style scoped>\n",
       "    .dataframe tbody tr th:only-of-type {\n",
       "        vertical-align: middle;\n",
       "    }\n",
       "\n",
       "    .dataframe tbody tr th {\n",
       "        vertical-align: top;\n",
       "    }\n",
       "\n",
       "    .dataframe thead th {\n",
       "        text-align: right;\n",
       "    }\n",
       "</style>\n",
       "<table border=\"1\" class=\"dataframe\">\n",
       "  <thead>\n",
       "    <tr style=\"text-align: right;\">\n",
       "      <th></th>\n",
       "      <th>experiences</th>\n",
       "      <th>interests</th>\n",
       "      <th>qualities</th>\n",
       "    </tr>\n",
       "  </thead>\n",
       "  <tbody>\n",
       "    <tr>\n",
       "      <th>0</th>\n",
       "      <td>travaillé sécurisation réseaux gestion accès p...</td>\n",
       "      <td>passionné cybersécurité identification mitigat...</td>\n",
       "      <td>rigueur esprit analytique curiosité sens criti...</td>\n",
       "    </tr>\n",
       "  </tbody>\n",
       "</table>\n",
       "</div>"
      ],
      "text/plain": [
       "                                         experiences  \\\n",
       "0  travaillé sécurisation réseaux gestion accès p...   \n",
       "\n",
       "                                           interests  \\\n",
       "0  passionné cybersécurité identification mitigat...   \n",
       "\n",
       "                                           qualities  \n",
       "0  rigueur esprit analytique curiosité sens criti...  "
      ]
     },
     "execution_count": 142,
     "metadata": {},
     "output_type": "execute_result"
    }
   ],
   "source": [
    "# === Step 4: Cleaning the user input ===\n",
    "column_cleaning = user_input_df.columns\n",
    "\n",
    "#List of stop words\n",
    "stop_words = set(stopwords.words('french'))\n",
    "\n",
    "for col in column_cleaning:\n",
    "    # To lower case\n",
    "    user_input_df[col] = user_input_df[col].astype(str).str.lower()\n",
    "    \n",
    "    #Delete punctuation\n",
    "    user_input_df[col] = user_input_df[col].apply(\n",
    "        lambda x: re.sub(f\"[{string.punctuation}]\", \" \", x)\n",
    "    )\n",
    "    \n",
    "    #Delete stopwords\n",
    "    user_input_df[col] = user_input_df[col].apply(\n",
    "        lambda x: \" \".join([word for word in x.split() if word not in stop_words])\n",
    "    )\n",
    "    \n",
    "user_input_df.head()"
   ]
  },
  {
   "cell_type": "code",
   "execution_count": 143,
   "id": "e5218dff",
   "metadata": {},
   "outputs": [
    {
     "name": "stdout",
     "output_type": "stream",
     "text": [
      "['travaillé sécurisation réseaux gestion accès plusieurs projets académiques stages réalisé tests intrusion audits vulnérabilités mis place protocoles chiffrement pare feu également participé simulations réponse incidents analyse journaux sécurité maîtrise outils monitoring gestion incidents protection systèmes information', 'passionné cybersécurité identification mitigation risques protection systèmes information aime étudier nouvelles vulnérabilités analyser menaces émergentes concevoir stratégies défense différents environnements it', 'rigueur esprit analytique curiosité sens critique attention détails capacité travailler équipe communiquer clairement problèmes sécurité solutions méthodique persévérant résoudre problèmes complexes prévenir incidents', 'python niveau moyen, sql niveau mauvais', 'html niveau tres mauvais, css niveau tres mauvais', 'hadoop niveau mauvais', 'bon connaissance infrastructure cloud']\n"
     ]
    }
   ],
   "source": [
    "# Transform user input in list\n",
    "user_input = []\n",
    "\n",
    "for col in column_cleaning:\n",
    "    user_input.append(user_input_df[col].iloc[0])\n",
    "    \n",
    "user_input = user_input + skills_list\n",
    "\n",
    "print(user_input)"
   ]
  },
  {
   "cell_type": "code",
   "execution_count": 144,
   "id": "56182960",
   "metadata": {},
   "outputs": [],
   "source": [
    "# === Step 4: Load SBERT model for embeddings === \n",
    "# tester plusieurs models\n",
    "model = SentenceTransformer(\"multi-qa-mpnet-base-dot-v1\")  # Model optimised for semantic analysis\n",
    " \n",
    "# Encode user inputs \n",
    "user_embeddings = model.encode(user_input, convert_to_tensor=True)"
   ]
  },
  {
   "cell_type": "code",
   "execution_count": 145,
   "id": "f64b9449",
   "metadata": {},
   "outputs": [
    {
     "name": "stdout",
     "output_type": "stream",
     "text": [
      "[('Big Data Engineer', np.float64(0.5615851495947156)), ('Cybersecurity Analyst', np.float64(0.5611069798469543)), ('Data Analyst', np.float64(0.5497014778000968))]\n"
     ]
    }
   ],
   "source": [
    "# === Step 5: Calculate semantic similarity for each block === \n",
    "block_scores = {} \n",
    " \n",
    "for block, competencies in block_dict.items(): \n",
    "    # Encode competency block phrases \n",
    "    block_embeddings = model.encode(competencies, convert_to_tensor=True) \n",
    "     \n",
    "    # Compare each user input to competencies using cosine similarity \n",
    "    similarities = util.cos_sim(user_embeddings, block_embeddings) \n",
    "     \n",
    "    # Take max similarity per user input and average across inputs \n",
    "    max_similarities = [float(sim.max()) for sim in similarities]   \n",
    "    block_score = np.mean(max_similarities) \n",
    "     \n",
    "    block_scores[block] = block_score \n",
    "\n",
    "# Obtain top 3 job similarity\n",
    "top_3_blocks = sorted(block_scores.items(), key=lambda x: x[1], reverse=True)[:3]\n",
    "\n",
    "print(top_3_blocks)"
   ]
  }
 ],
 "metadata": {
  "kernelspec": {
   "display_name": "Python 3",
   "language": "python",
   "name": "python3"
  },
  "language_info": {
   "codemirror_mode": {
    "name": "ipython",
    "version": 3
   },
   "file_extension": ".py",
   "mimetype": "text/x-python",
   "name": "python",
   "nbconvert_exporter": "python",
   "pygments_lexer": "ipython3",
   "version": "3.11.9"
  }
 },
 "nbformat": 4,
 "nbformat_minor": 5
}
