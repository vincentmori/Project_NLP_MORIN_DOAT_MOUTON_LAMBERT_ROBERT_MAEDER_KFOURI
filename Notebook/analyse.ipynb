{
 "cells": [
  {
   "cell_type": "code",
   "execution_count": 76,
   "id": "a5ef5b12",
   "metadata": {},
   "outputs": [
    {
     "name": "stderr",
     "output_type": "stream",
     "text": [
      "[nltk_data] Downloading package stopwords to\n",
      "[nltk_data]     C:\\Users\\vince\\AppData\\Roaming\\nltk_data...\n",
      "[nltk_data]   Package stopwords is already up-to-date!\n"
     ]
    }
   ],
   "source": [
    "# === Step 1: Import libraries === \n",
    "from sentence_transformers import SentenceTransformer, util \n",
    "import numpy as np\n",
    "import pandas as pd\n",
    "import os\n",
    "import nltk\n",
    "nltk.download('stopwords')\n",
    "from nltk.corpus import stopwords\n",
    "import re\n",
    "import string"
   ]
  },
  {
   "cell_type": "code",
   "execution_count": null,
   "id": "c1530f94",
   "metadata": {},
   "outputs": [
    {
     "data": {
      "text/html": [
       "<div>\n",
       "<style scoped>\n",
       "    .dataframe tbody tr th:only-of-type {\n",
       "        vertical-align: middle;\n",
       "    }\n",
       "\n",
       "    .dataframe tbody tr th {\n",
       "        vertical-align: top;\n",
       "    }\n",
       "\n",
       "    .dataframe thead th {\n",
       "        text-align: right;\n",
       "    }\n",
       "</style>\n",
       "<table border=\"1\" class=\"dataframe\">\n",
       "  <thead>\n",
       "    <tr style=\"text-align: right;\">\n",
       "      <th></th>\n",
       "      <th>job</th>\n",
       "      <th>competency</th>\n",
       "    </tr>\n",
       "  </thead>\n",
       "  <tbody>\n",
       "    <tr>\n",
       "      <th>0</th>\n",
       "      <td>Data Analyst</td>\n",
       "      <td>data cleaning; data visualization; business re...</td>\n",
       "    </tr>\n",
       "    <tr>\n",
       "      <th>1</th>\n",
       "      <td>Data Scientist</td>\n",
       "      <td>predictive modeling; ab testing; feature engin...</td>\n",
       "    </tr>\n",
       "    <tr>\n",
       "      <th>2</th>\n",
       "      <td>Machine Learning Engineer</td>\n",
       "      <td>classification; regression; neural networks; m...</td>\n",
       "    </tr>\n",
       "    <tr>\n",
       "      <th>3</th>\n",
       "      <td>Data Engineer</td>\n",
       "      <td>etl processes; data pipelines; data warehouse ...</td>\n",
       "    </tr>\n",
       "    <tr>\n",
       "      <th>4</th>\n",
       "      <td>NLP Engineer</td>\n",
       "      <td>tokenization; word embeddings; transformers; s...</td>\n",
       "    </tr>\n",
       "  </tbody>\n",
       "</table>\n",
       "</div>"
      ],
      "text/plain": [
       "                         job  \\\n",
       "0               Data Analyst   \n",
       "1             Data Scientist   \n",
       "2  Machine Learning Engineer   \n",
       "3              Data Engineer   \n",
       "4               NLP Engineer   \n",
       "\n",
       "                                          competency  \n",
       "0  data cleaning; data visualization; business re...  \n",
       "1  predictive modeling; ab testing; feature engin...  \n",
       "2  classification; regression; neural networks; m...  \n",
       "3  etl processes; data pipelines; data warehouse ...  \n",
       "4  tokenization; word embeddings; transformers; s...  "
      ]
     },
     "execution_count": 77,
     "metadata": {},
     "output_type": "execute_result"
    }
   ],
   "source": [
    "# === Step 2: Define competency framework (blocks) ===\n",
    "block_path = os.path.join(\"..\", \"Data\", \"Competency_block.csv\")\n",
    "block_df = pd.read_csv(block_path)\n",
    "\n",
    "block_df.head()"
   ]
  },
  {
   "cell_type": "code",
   "execution_count": 78,
   "id": "30373d1b",
   "metadata": {},
   "outputs": [],
   "source": [
    "# Transform in dictionnary\n",
    "block_dict = block_df.set_index('job').to_dict('index')\n",
    "\n",
    "# Séparer les compétences en liste\n",
    "block_dict = {job: val['competency'].split('; ') for job, val in block_dict.items()}"
   ]
  },
  {
   "cell_type": "code",
   "execution_count": 79,
   "id": "6ae5d2d6",
   "metadata": {},
   "outputs": [
    {
     "name": "stdout",
     "output_type": "stream",
     "text": [
      "{'Data Analyst': ['data cleaning', 'data visualization', 'business reporting', 'dashboards', 'excel', 'sql'], 'Data Scientist': ['predictive modeling', 'ab testing', 'feature engineering', 'hypothesis testing', 'statistical modeling'], 'Machine Learning Engineer': ['classification', 'regression', 'neural networks', 'model evaluation', 'deployment pipelines'], 'Data Engineer': ['etl processes', 'data pipelines', 'data warehouse design', 'big data processing', 'distributed systems'], 'NLP Engineer': ['tokenization', 'word embeddings', 'transformers', 'semantic analysis', 'information retrieval'], 'Prompt Engineer': ['prompt design', 'few shot prompting', 'zero shot prompting', 'context optimization', 'instruction tuning']}\n"
     ]
    }
   ],
   "source": [
    "print(block_dict)"
   ]
  },
  {
   "cell_type": "code",
   "execution_count": 80,
   "id": "3210ca18",
   "metadata": {},
   "outputs": [
    {
     "data": {
      "text/html": [
       "<div>\n",
       "<style scoped>\n",
       "    .dataframe tbody tr th:only-of-type {\n",
       "        vertical-align: middle;\n",
       "    }\n",
       "\n",
       "    .dataframe tbody tr th {\n",
       "        vertical-align: top;\n",
       "    }\n",
       "\n",
       "    .dataframe thead th {\n",
       "        text-align: right;\n",
       "    }\n",
       "</style>\n",
       "<table border=\"1\" class=\"dataframe\">\n",
       "  <thead>\n",
       "    <tr style=\"text-align: right;\">\n",
       "      <th></th>\n",
       "      <th>experiences</th>\n",
       "      <th>interests</th>\n",
       "      <th>python_level</th>\n",
       "      <th>sql_level</th>\n",
       "    </tr>\n",
       "  </thead>\n",
       "  <tbody>\n",
       "    <tr>\n",
       "      <th>0</th>\n",
       "      <td>Etudiant ECE majeur Data &amp; IA. Cours de machin...</td>\n",
       "      <td>J'aimerais travailler dans les LLM, IA Agentic.</td>\n",
       "      <td>4</td>\n",
       "      <td>4</td>\n",
       "    </tr>\n",
       "  </tbody>\n",
       "</table>\n",
       "</div>"
      ],
      "text/plain": [
       "                                         experiences  \\\n",
       "0  Etudiant ECE majeur Data & IA. Cours de machin...   \n",
       "\n",
       "                                         interests  python_level  sql_level  \n",
       "0  J'aimerais travailler dans les LLM, IA Agentic.             4          4  "
      ]
     },
     "execution_count": 80,
     "metadata": {},
     "output_type": "execute_result"
    }
   ],
   "source": [
    "# === Step 3: load the user input ===\n",
    "id_path = os.path.join(\"..\", \"Data\", \"id.txt\")\n",
    "with open(id_path, \"r\") as f:\n",
    "    last_id = int(f.read().strip())\n",
    "\n",
    "user_input_path = os.path.join(\"..\", \"Data\", \"User\", f\"{last_id}_profile.csv\")\n",
    "user_input_df = pd.read_csv(user_input_path)\n",
    "\n",
    "user_input_df.head()"
   ]
  },
  {
   "cell_type": "code",
   "execution_count": 81,
   "id": "f7bc76a9",
   "metadata": {},
   "outputs": [
    {
     "data": {
      "text/html": [
       "<div>\n",
       "<style scoped>\n",
       "    .dataframe tbody tr th:only-of-type {\n",
       "        vertical-align: middle;\n",
       "    }\n",
       "\n",
       "    .dataframe tbody tr th {\n",
       "        vertical-align: top;\n",
       "    }\n",
       "\n",
       "    .dataframe thead th {\n",
       "        text-align: right;\n",
       "    }\n",
       "</style>\n",
       "<table border=\"1\" class=\"dataframe\">\n",
       "  <thead>\n",
       "    <tr style=\"text-align: right;\">\n",
       "      <th></th>\n",
       "      <th>experiences</th>\n",
       "      <th>interests</th>\n",
       "      <th>python_level</th>\n",
       "      <th>sql_level</th>\n",
       "    </tr>\n",
       "  </thead>\n",
       "  <tbody>\n",
       "    <tr>\n",
       "      <th>0</th>\n",
       "      <td>etudiant ece majeur data ia cours machine lear...</td>\n",
       "      <td>aimerais travailler llm ia agentic</td>\n",
       "      <td>4</td>\n",
       "      <td>4</td>\n",
       "    </tr>\n",
       "  </tbody>\n",
       "</table>\n",
       "</div>"
      ],
      "text/plain": [
       "                                         experiences  \\\n",
       "0  etudiant ece majeur data ia cours machine lear...   \n",
       "\n",
       "                            interests python_level sql_level  \n",
       "0  aimerais travailler llm ia agentic            4         4  "
      ]
     },
     "execution_count": 81,
     "metadata": {},
     "output_type": "execute_result"
    }
   ],
   "source": [
    "# === Step 4: Cleaning the user input ===\n",
    "column_cleaning = user_input_df.columns\n",
    "\n",
    "#List of stop words\n",
    "stop_words = set(stopwords.words('french'))\n",
    "\n",
    "for col in column_cleaning:\n",
    "    # To lower case\n",
    "    user_input_df[col] = user_input_df[col].astype(str).str.lower()\n",
    "    \n",
    "    #Delete punctuation\n",
    "    user_input_df[col] = user_input_df[col].apply(\n",
    "        lambda x: re.sub(f\"[{string.punctuation}]\", \" \", x)\n",
    "    )\n",
    "    \n",
    "    #Delete stopwords\n",
    "    user_input_df[col] = user_input_df[col].apply(\n",
    "        lambda x: \" \".join([word for word in x.split() if word not in stop_words])\n",
    "    )\n",
    "    \n",
    "user_input_df.head()"
   ]
  },
  {
   "cell_type": "code",
   "execution_count": 82,
   "id": "e5218dff",
   "metadata": {},
   "outputs": [
    {
     "name": "stdout",
     "output_type": "stream",
     "text": [
      "['etudiant ece majeur data ia cours machine learning projet dataset kaggle projet data visualisation creation insight python matplotlib stage technique sujet machine learning segmentation client sujet banquaire', 'aimerais travailler llm ia agentic', '4', '4']\n"
     ]
    }
   ],
   "source": [
    "# Transform user input in list\n",
    "user_input = []\n",
    "\n",
    "for col in column_cleaning:\n",
    "    user_input.append(user_input_df[col].iloc[0])\n",
    "    \n",
    "print(user_input)"
   ]
  },
  {
   "cell_type": "code",
   "execution_count": null,
   "id": "56182960",
   "metadata": {},
   "outputs": [],
   "source": [
    "# === Step 4: Load SBERT model for embeddings === \n",
    "# tester plusieurs models\n",
    "model = SentenceTransformer(\"all-MiniLM-L6-v2\") \n",
    " \n",
    "# ajouter les poids et niveau python sql\n",
    "# Encode user inputs \n",
    "user_embeddings = model.encode(user_input, convert_to_tensor=True)"
   ]
  },
  {
   "cell_type": "code",
   "execution_count": 85,
   "id": "f64b9449",
   "metadata": {},
   "outputs": [
    {
     "name": "stdout",
     "output_type": "stream",
     "text": [
      "[('Machine Learning Engineer', 0.19374284148216248), ('Data Analyst', 0.16704775393009186), ('NLP Engineer', 0.16627229750156403)]\n"
     ]
    }
   ],
   "source": [
    "# === Step 5: Calculate semantic similarity for each block === \n",
    "block_scores = {} \n",
    " \n",
    "for block, competencies in block_dict.items(): \n",
    "    # Encode competency block phrases \n",
    "    block_embeddings = model.encode(competencies, convert_to_tensor=True) \n",
    "     \n",
    "    # Compare each user input to competencies using cosine similarity \n",
    "    similarities = util.cos_sim(user_embeddings, block_embeddings) \n",
    "     \n",
    "    # Take mean similarity per user input and job \n",
    "    block_score = similarities.mean().item() \n",
    "    block_scores[block] = block_score\n",
    "\n",
    "# Obtain top 3 job similarity\n",
    "top_3_blocks = sorted(block_scores.items(), key=lambda x: x[1], reverse=True)[:3]\n",
    "\n",
    "print(top_3_blocks)"
   ]
  }
 ],
 "metadata": {
  "kernelspec": {
   "display_name": "Python 3",
   "language": "python",
   "name": "python3"
  },
  "language_info": {
   "codemirror_mode": {
    "name": "ipython",
    "version": 3
   },
   "file_extension": ".py",
   "mimetype": "text/x-python",
   "name": "python",
   "nbconvert_exporter": "python",
   "pygments_lexer": "ipython3",
   "version": "3.11.9"
  }
 },
 "nbformat": 4,
 "nbformat_minor": 5
}
